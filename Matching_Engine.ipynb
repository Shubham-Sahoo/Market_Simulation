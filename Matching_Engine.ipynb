{
 "cells": [
  {
   "cell_type": "code",
   "execution_count": 254,
   "id": "a2b6183a",
   "metadata": {},
   "outputs": [],
   "source": [
    "import sortedcontainers\n",
    "from threading import Thread\n",
    "from collections import deque\n",
    "import random"
   ]
  },
  {
   "cell_type": "code",
   "execution_count": null,
   "id": "cba54232",
   "metadata": {},
   "outputs": [],
   "source": []
  },
  {
   "cell_type": "code",
   "execution_count": 35,
   "id": "5ffa465c",
   "metadata": {},
   "outputs": [],
   "source": [
    "class Order:\n",
    "\n",
    "    def __init__(self, order_type, direction, price, quantity):\n",
    "        self.type = order_type\n",
    "        self.direction = direction.lower()\n",
    "        self.price = price\n",
    "        self.quantity = quantity\n",
    "\n",
    "class Trade:\n",
    "\n",
    "    def __init__(self, price, quantity):\n",
    "        self.price = price\n",
    "        self.quantity = quantity"
   ]
  },
  {
   "cell_type": "code",
   "execution_count": 196,
   "id": "fe57e0cb",
   "metadata": {},
   "outputs": [],
   "source": [
    "class OrderBook:\n",
    "\n",
    "    def __init__(self, bids=[], asks=[]):\n",
    "        self.bids = sortedcontainers.SortedList(bids, key = lambda order: -order.price)\n",
    "        self.asks = sortedcontainers.SortedList(asks, key = lambda order: order.price)\n",
    "\n",
    "    def __len__(self):\n",
    "        return len(self.bids) + len(self.asks)\n",
    "\n",
    "    def add(self, order):\n",
    "        if order.direction == 'buy':\n",
    "            self.bids.add(order)\n",
    "        elif order.direction == 'sell':\n",
    "            self.asks.add(order)\n",
    "\n",
    "    def remove(self, order):\n",
    "        if order.direction == 'buy':\n",
    "            self.bids.remove(order)\n",
    "        elif order.direction == 'sell':\n",
    "            self.asks.remove(order)\n",
    "    \n",
    "    def best_ask(self):\n",
    "        if(self.asks.__len__() >0):\n",
    "            return self.asks._getitem(0).price\n",
    "        return 1000000\n",
    "    \n",
    "    def best_bid(self):\n",
    "        if(self.bids.__len__() >0):\n",
    "            return self.bids._getitem(0).price\n",
    "        return -1\n",
    "    \n",
    "    def plot(self):\n",
    "        fig = plt.figure(figsize=(10,5))\n",
    "        ax = fig.add_subplot(111)\n",
    "        ax.set_title(\"Limit Order Book\")\n",
    "\n",
    "        ax.set_xlabel('Price')\n",
    "        ax.set_ylabel('Quantity')\n",
    "\n",
    "        # Cumulative bid volume\n",
    "        bidvalues = [0]\n",
    "        for i in range(len(self.bids)):\n",
    "            bidvalues.append(sum([self.bids[x].quantity for x in range(i+1)]))\n",
    "        bidvalues.append(sum([bid.quantity for bid in self.bids]))\n",
    "        bidvalues.sort()\n",
    "\n",
    "        # Cumulative ask volume\n",
    "        askvalues = [0]\n",
    "        for i in range(len(self.asks)):\n",
    "            askvalues.append(sum([self.asks[x].quantity for x in range(i+1)]))\n",
    "        askvalues.append(sum([ask.quantity for ask in self.asks]))\n",
    "        askvalues.sort(reverse=True)\n",
    "\n",
    "        # Draw bid side\n",
    "        x = [self.bids[0].price] + [order.price for order in self.bids] + [self.bids[-1].price]\n",
    "        ax.step(x, bidvalues, color='green')\n",
    "\n",
    "        # Draw ask side\n",
    "        x = [self.asks[-1].price] + sorted([order.price for order in self.asks], reverse=True) + [self.asks[0].price]\n",
    "        ax.step(x, askvalues, color='red')\n",
    "\n",
    "        ax.set_xlim([min(order.price for order in self.bids), max(order.price for order in self.asks)])\n",
    "        plt.show()\n",
    "        if save:\n",
    "            fig.savefig('plot.png', transparent=True)"
   ]
  },
  {
   "cell_type": "code",
   "execution_count": 246,
   "id": "1569aad1",
   "metadata": {},
   "outputs": [],
   "source": [
    "class MatchingEngine:\n",
    "\n",
    "    def __init__(self, threaded=False):\n",
    "        self.queue = deque()\n",
    "        self.orderbook = OrderBook()\n",
    "        self.trades = deque()\n",
    "        self.threaded = threaded\n",
    "        if self.threaded:\n",
    "            self.thread = Thread(target=self.run)\n",
    "            self.thread.start()\n",
    "            \n",
    "    def process(self, order):\n",
    "        if self.threaded:\n",
    "            self.queue.append(order)\n",
    "        else:\n",
    "            self.match(order)\n",
    "\n",
    "    def get_trades(self):\n",
    "        trades = list(self.trades)\n",
    "        return trades\n",
    "    \n",
    "    def match(self, order):\n",
    "        if order.direction == 'buy' and order.price >= self.orderbook.best_ask():\n",
    "            # Buy order crossed the spread\n",
    "            filled = 0\n",
    "            consumed_asks = []\n",
    "            for i in range(len(self.orderbook.asks)):\n",
    "                ask = self.orderbook.asks[i]\n",
    "\n",
    "                if ask.price > order.price:\n",
    "                    break # Price of ask is too high, stop filling order\n",
    "                elif filled == order.quantity:\n",
    "                    break # Order was filled\n",
    "\n",
    "                if filled + ask.quantity <= order.quantity: # order not yet filled, ask will be consumed whole\n",
    "                    filled += ask.quantity\n",
    "                    trade = Trade(ask.price, ask.quantity)\n",
    "                    self.trades.append(trade)\n",
    "                    consumed_asks.append(ask)\n",
    "                elif filled + ask.quantity > order.quantity: # order is filled, ask will be consumed partially\n",
    "                    volume = order.quantity-filled\n",
    "                    filled += volume\n",
    "                    trade = Trade(ask.price, volume)\n",
    "                    self.trades.append(trade)\n",
    "                    ask.quantity -= volume\n",
    "\n",
    "            # Place any remaining volume in LOB\n",
    "            if filled < order.quantity:\n",
    "                self.orderbook.add(Order(\"limit\", \"buy\", order.price, order.quantity-filled))\n",
    "\n",
    "            # Remove asks used for filling order\n",
    "            for ask in consumed_asks:\n",
    "                self.orderbook.remove(ask)\n",
    "\n",
    "        elif order.direction == 'sell' and order.price <= self.orderbook.best_bid():\n",
    "            # Sell order crossed the spread\n",
    "            filled = 0\n",
    "            consumed_bids = []\n",
    "            for i in range(len(self.orderbook.bids)):\n",
    "                bid = self.orderbook.bids[i]\n",
    "\n",
    "                if bid.price < order.price:\n",
    "                    break # Price of bid is too low, stop filling order\n",
    "                if filled == order.quantity:\n",
    "                    break # Order was filled\n",
    "\n",
    "                if filled + bid.quantity <= order.quantity: # order not yet filled, bid will be consumed whole\n",
    "                    filled += bid.quantity\n",
    "                    trade = Trade(bid.price, bid.quantity)\n",
    "                    self.trades.append(trade)\n",
    "                    consumed_bids.append(bid)\n",
    "                elif filled + bid.quantity > order.quantity: # order is filled, bid will be consumed partially\n",
    "                    volume = order.quantity-filled\n",
    "                    filled += volume\n",
    "                    trade = Trade(bid.price, volume)\n",
    "                    self.trades.append(trade)\n",
    "                    bid.quantity -= volume\n",
    "\n",
    "            # Place any remaining volume in LOB\n",
    "            if filled < order.quantity:\n",
    "                self.orderbook.add(Order(\"limit\", \"sell\", order.price, order.quantity-filled))\n",
    "\n",
    "            # Remove bids used for filling order\n",
    "            for bid in consumed_bids:\n",
    "                self.orderbook.remove(bid)\n",
    "        else:\n",
    "            # Order did not cross the spread, place in order book\n",
    "            self.orderbook.add(order)\n",
    "            \n",
    "    def run(self):\n",
    "        while len(self.queue)>0:\n",
    "            if len(self.queue) > 0:\n",
    "                order = self.queue.popleft()\n",
    "                self.match(order)"
   ]
  },
  {
   "cell_type": "code",
   "execution_count": 247,
   "id": "b244f42f",
   "metadata": {},
   "outputs": [],
   "source": [
    "m = MatchingEngine()"
   ]
  },
  {
   "cell_type": "code",
   "execution_count": 248,
   "id": "89d84572",
   "metadata": {},
   "outputs": [],
   "source": [
    "x = Order('MSFT', 'buy', 135, 100)\n",
    "y = Order('MSFT', 'sell', 136, 100)\n",
    "z = Order('MSFT', 'buy', 137, 100)\n",
    "order_dict = dict({1 : x, 2 : y, 3 : z})\n",
    "m.queue.append(order_dict[1])\n",
    "m.queue.append(order_dict[2])\n",
    "m.queue.append(order_dict[3])"
   ]
  },
  {
   "cell_type": "code",
   "execution_count": 239,
   "id": "cac0532f",
   "metadata": {},
   "outputs": [],
   "source": []
  },
  {
   "cell_type": "code",
   "execution_count": 249,
   "id": "d76e780e",
   "metadata": {
    "scrolled": true
   },
   "outputs": [],
   "source": [
    "m.run()"
   ]
  },
  {
   "cell_type": "code",
   "execution_count": 250,
   "id": "0aa6b32a",
   "metadata": {},
   "outputs": [],
   "source": [
    "z = m.get_trades()"
   ]
  },
  {
   "cell_type": "code",
   "execution_count": null,
   "id": "6f13629a",
   "metadata": {},
   "outputs": [],
   "source": []
  },
  {
   "cell_type": "code",
   "execution_count": 266,
   "id": "4eac601d",
   "metadata": {},
   "outputs": [],
   "source": [
    "# Generate random data for buying and selling order\n",
    "\n",
    "class RandomData:\n",
    "    \n",
    "    def __init__(self, order_type, price_l = 100, price_h = 120, quantity_l = 10, quantity_h = 100):\n",
    "        self.price_low = price_l\n",
    "        self.price_high = price_h\n",
    "        self.quantity_low = quantity_l\n",
    "        self.quantity_high = quantity_h\n",
    "        self.order_type = order_type\n",
    "        self.order_dir = 'buy'\n",
    "        \n",
    "    def get_data(self):\n",
    "        p = random.random()\n",
    "        if p<=0.5:\n",
    "            self.order_dir = 'buy'\n",
    "        else:\n",
    "            self.order_dir = 'sell'\n",
    "            \n",
    "        price = (random.random() * (self.price_high - self.price_low)) + self.price_low\n",
    "        quantity = (random.random() * (self.quantity_high - self.quantity_low)) + self.quantity_low\n",
    "        \n",
    "        return Order(self.order_type, self.order_dir, price, quantity)\n",
    "        \n",
    "            "
   ]
  },
  {
   "cell_type": "code",
   "execution_count": 272,
   "id": "6fa8ba59",
   "metadata": {},
   "outputs": [],
   "source": [
    "data_gen = RandomData('MSFT')"
   ]
  },
  {
   "cell_type": "code",
   "execution_count": 280,
   "id": "48155b76",
   "metadata": {},
   "outputs": [],
   "source": [
    "N = 10\n",
    "order_dict = {}\n",
    "for i in range(N):\n",
    "    order_dict[i] = data_gen.get_data()\n",
    "    m.queue.append(order_dict[i])"
   ]
  },
  {
   "cell_type": "code",
   "execution_count": 281,
   "id": "4ed9e095",
   "metadata": {},
   "outputs": [],
   "source": [
    "m.run()"
   ]
  },
  {
   "cell_type": "code",
   "execution_count": 283,
   "id": "32a5e991",
   "metadata": {},
   "outputs": [],
   "source": [
    "z = m.get_trades()"
   ]
  },
  {
   "cell_type": "code",
   "execution_count": 292,
   "id": "cadfd1ec",
   "metadata": {},
   "outputs": [
    {
     "data": {
      "text/plain": [
       "106.68198992626176"
      ]
     },
     "execution_count": 292,
     "metadata": {},
     "output_type": "execute_result"
    }
   ],
   "source": [
    "z[6].price"
   ]
  },
  {
   "cell_type": "code",
   "execution_count": null,
   "id": "5b539e21",
   "metadata": {},
   "outputs": [],
   "source": []
  },
  {
   "cell_type": "code",
   "execution_count": null,
   "id": "b8662a7e",
   "metadata": {},
   "outputs": [],
   "source": []
  },
  {
   "cell_type": "code",
   "execution_count": null,
   "id": "230384b8",
   "metadata": {},
   "outputs": [],
   "source": []
  }
 ],
 "metadata": {
  "kernelspec": {
   "display_name": "Python 3 (ipykernel)",
   "language": "python",
   "name": "python3"
  },
  "language_info": {
   "codemirror_mode": {
    "name": "ipython",
    "version": 3
   },
   "file_extension": ".py",
   "mimetype": "text/x-python",
   "name": "python",
   "nbconvert_exporter": "python",
   "pygments_lexer": "ipython3",
   "version": "3.8.8"
  }
 },
 "nbformat": 4,
 "nbformat_minor": 5
}
