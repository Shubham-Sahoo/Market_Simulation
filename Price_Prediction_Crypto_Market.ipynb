{
 "cells": [
  {
   "cell_type": "code",
   "execution_count": 1,
   "id": "9dc34750",
   "metadata": {},
   "outputs": [],
   "source": [
    "from datetime import date\n",
    "import yfinance as yf\n",
    "import numpy as np \n",
    "import pandas as pd \n",
    "import matplotlib.pyplot as plt\n",
    "from pandas.plotting import lag_plot\n",
    "from statsmodels.tsa.arima.model import ARIMA\n",
    "from sklearn.metrics import mean_squared_error"
   ]
  },
  {
   "cell_type": "code",
   "execution_count": 2,
   "id": "24f27380",
   "metadata": {},
   "outputs": [],
   "source": [
    "msft = yf.Ticker(\"MSFT\")"
   ]
  },
  {
   "cell_type": "code",
   "execution_count": 3,
   "id": "0f3a988a",
   "metadata": {},
   "outputs": [
    {
     "data": {
      "text/plain": [
       "yfinance.Ticker object <MSFT>"
      ]
     },
     "execution_count": 3,
     "metadata": {},
     "output_type": "execute_result"
    }
   ],
   "source": [
    "msft"
   ]
  },
  {
   "cell_type": "code",
   "execution_count": null,
   "id": "ac2d4192",
   "metadata": {},
   "outputs": [],
   "source": []
  },
  {
   "cell_type": "code",
   "execution_count": 4,
   "id": "7ba7468b",
   "metadata": {},
   "outputs": [
    {
     "data": {
      "text/plain": [
       "{'address1': 'One Microsoft Way',\n",
       " 'city': 'Redmond',\n",
       " 'state': 'WA',\n",
       " 'zip': '98052-6399',\n",
       " 'country': 'United States',\n",
       " 'phone': '425 882 8080',\n",
       " 'fax': '425 706 7329',\n",
       " 'website': 'https://www.microsoft.com',\n",
       " 'industry': 'Software—Infrastructure',\n",
       " 'industryDisp': 'Software—Infrastructure',\n",
       " 'sector': 'Technology',\n",
       " 'longBusinessSummary': 'Microsoft Corporation develops, licenses, and supports software, services, devices, and solutions worldwide. The company operates in three segments: Productivity and Business Processes, Intelligent Cloud, and More Personal Computing. The Productivity and Business Processes segment offers Office, Exchange, SharePoint, Microsoft Teams, Office 365 Security and Compliance, Microsoft Viva, and Skype for Business; Skype, Outlook.com, OneDrive, and LinkedIn; and Dynamics 365, a set of cloud-based and on-premises business solutions for organizations and enterprise divisions. The Intelligent Cloud segment licenses SQL, Windows Servers, Visual Studio, System Center, and related Client Access Licenses; GitHub that provides a collaboration platform and code hosting service for developers; Nuance provides healthcare and enterprise AI solutions; and Azure, a cloud platform. It also offers enterprise support, Microsoft consulting, and nuance professional services to assist customers in developing, deploying, and managing Microsoft server and desktop solutions; and training and certification on Microsoft products. The More Personal Computing segment provides Windows original equipment manufacturer (OEM) licensing and other non-volume licensing of the Windows operating system; Windows Commercial, such as volume licensing of the Windows operating system, Windows cloud services, and other Windows commercial offerings; patent licensing; and Windows Internet of Things. It also offers Surface, PC accessories, PCs, tablets, gaming and entertainment consoles, and other devices; Gaming, including Xbox hardware, and Xbox content and services; video games and third-party video game royalties; and Search, including Bing and Microsoft advertising. The company sells its products through OEMs, distributors, and resellers; and directly through digital marketplaces, online stores, and retail stores. Microsoft Corporation was founded in 1975 and is headquartered in Redmond, Washington.',\n",
       " 'fullTimeEmployees': 221000,\n",
       " 'companyOfficers': [{'maxAge': 1,\n",
       "   'name': 'Mr. Satya  Nadella',\n",
       "   'age': 55,\n",
       "   'title': 'Chairman & CEO',\n",
       "   'yearBorn': 1967,\n",
       "   'fiscalYear': 2022,\n",
       "   'totalPay': 12676750,\n",
       "   'exercisedValue': 0,\n",
       "   'unexercisedValue': 0},\n",
       "  {'maxAge': 1,\n",
       "   'name': 'Mr. Bradford L. Smith LCA',\n",
       "   'age': 63,\n",
       "   'title': 'Pres & Vice Chairman',\n",
       "   'yearBorn': 1959,\n",
       "   'fiscalYear': 2022,\n",
       "   'totalPay': 4655274,\n",
       "   'exercisedValue': 0,\n",
       "   'unexercisedValue': 0},\n",
       "  {'maxAge': 1,\n",
       "   'name': 'Ms. Amy E. Hood',\n",
       "   'age': 50,\n",
       "   'title': 'Exec. VP & CFO',\n",
       "   'yearBorn': 1972,\n",
       "   'fiscalYear': 2022,\n",
       "   'totalPay': 4637915,\n",
       "   'exercisedValue': 0,\n",
       "   'unexercisedValue': 0},\n",
       "  {'maxAge': 1,\n",
       "   'name': 'Mr. Judson  Althoff',\n",
       "   'age': 49,\n",
       "   'title': 'Exec. VP & Chief Commercial Officer',\n",
       "   'yearBorn': 1973,\n",
       "   'fiscalYear': 2022,\n",
       "   'totalPay': 4428268,\n",
       "   'exercisedValue': 0,\n",
       "   'unexercisedValue': 0},\n",
       "  {'maxAge': 1,\n",
       "   'name': 'Mr. Christopher David Young',\n",
       "   'age': 50,\n",
       "   'title': 'Exec. VP of Bus. Devel., Strategy & Ventures',\n",
       "   'yearBorn': 1972,\n",
       "   'fiscalYear': 2022,\n",
       "   'totalPay': 4588876,\n",
       "   'exercisedValue': 0,\n",
       "   'unexercisedValue': 0},\n",
       "  {'maxAge': 1,\n",
       "   'name': 'Ms. Alice L. Jolla',\n",
       "   'age': 55,\n",
       "   'title': 'Corp. VP & Chief Accounting Officer',\n",
       "   'yearBorn': 1967,\n",
       "   'exercisedValue': 0,\n",
       "   'unexercisedValue': 0},\n",
       "  {'maxAge': 1,\n",
       "   'name': 'Brett  Iversen',\n",
       "   'title': 'Gen. Mang. of Investor Relations',\n",
       "   'exercisedValue': 0,\n",
       "   'unexercisedValue': 0},\n",
       "  {'maxAge': 1,\n",
       "   'name': 'Mr. Frank X. Shaw',\n",
       "   'title': 'Corp. VP for Corp. Communications',\n",
       "   'exercisedValue': 0,\n",
       "   'unexercisedValue': 0},\n",
       "  {'maxAge': 1,\n",
       "   'name': 'Mr. Christopher C. Capossela',\n",
       "   'age': 52,\n",
       "   'title': 'Exec. VP & Chief Marketing Officer',\n",
       "   'yearBorn': 1970,\n",
       "   'exercisedValue': 0,\n",
       "   'unexercisedValue': 0},\n",
       "  {'maxAge': 1,\n",
       "   'name': 'Mr. Keith Ranger Dolliver Esq.',\n",
       "   'title': 'VP, Deputy Gen. Counsel of Corp., External & Legal Affairs and Assistant Sec.',\n",
       "   'exercisedValue': 0,\n",
       "   'unexercisedValue': 0}],\n",
       " 'auditRisk': 6,\n",
       " 'boardRisk': 3,\n",
       " 'compensationRisk': 3,\n",
       " 'shareHolderRightsRisk': 2,\n",
       " 'overallRisk': 2,\n",
       " 'governanceEpochDate': 1685577600,\n",
       " 'compensationAsOfEpochDate': 1672444800,\n",
       " 'maxAge': 86400,\n",
       " 'priceHint': 2,\n",
       " 'previousClose': 335.4,\n",
       " 'open': 335.22,\n",
       " 'dayLow': 334.6601,\n",
       " 'dayHigh': 338.55,\n",
       " 'regularMarketPreviousClose': 335.4,\n",
       " 'regularMarketOpen': 335.22,\n",
       " 'regularMarketDayLow': 334.6601,\n",
       " 'regularMarketDayHigh': 338.55,\n",
       " 'dividendRate': 2.72,\n",
       " 'dividendYield': 0.0082,\n",
       " 'exDividendDate': 1684281600,\n",
       " 'payoutRatio': 0.28170002,\n",
       " 'fiveYearAvgDividendYield': 1.09,\n",
       " 'beta': 0.931034,\n",
       " 'trailingPE': 36.265022,\n",
       " 'forwardPE': 30.866667,\n",
       " 'volume': 10616011,\n",
       " 'regularMarketVolume': 10616011,\n",
       " 'averageVolume': 29673707,\n",
       " 'averageVolume10days': 31385120,\n",
       " 'averageDailyVolume10Day': 31385120,\n",
       " 'bid': 338.06,\n",
       " 'ask': 338.17,\n",
       " 'bidSize': 800,\n",
       " 'askSize': 1200,\n",
       " 'marketCap': 2513121050624,\n",
       " 'fiftyTwoWeekLow': 213.43,\n",
       " 'fiftyTwoWeekHigh': 338.55,\n",
       " 'priceToSalesTrailing12Months': 12.106117,\n",
       " 'fiftyDayAverage': 300.6818,\n",
       " 'twoHundredDayAverage': 261.20786,\n",
       " 'trailingAnnualDividendRate': 2.66,\n",
       " 'trailingAnnualDividendYield': 0.007930829,\n",
       " 'currency': 'USD',\n",
       " 'enterpriseValue': 2468755537920,\n",
       " 'profitMargins': 0.33248,\n",
       " 'floatShares': 7428795636,\n",
       " 'sharesOutstanding': 7435489792,\n",
       " 'sharesShort': 42337959,\n",
       " 'sharesShortPriorMonth': 40038879,\n",
       " 'sharesShortPreviousMonthDate': 1681430400,\n",
       " 'dateShortInterest': 1684108800,\n",
       " 'sharesPercentSharesOut': 0.0057,\n",
       " 'heldPercentInsiders': 0.00052,\n",
       " 'heldPercentInstitutions': 0.73767,\n",
       " 'shortRatio': 1.51,\n",
       " 'shortPercentOfFloat': 0.0057,\n",
       " 'impliedSharesOutstanding': 0,\n",
       " 'bookValue': 26.178,\n",
       " 'priceToBook': 12.911223,\n",
       " 'lastFiscalYearEnd': 1656547200,\n",
       " 'nextFiscalYearEnd': 1688083200,\n",
       " 'mostRecentQuarter': 1680220800,\n",
       " 'earningsQuarterlyGrowth': 0.094,\n",
       " 'netIncomeToCommon': 69020000256,\n",
       " 'trailingEps': 9.32,\n",
       " 'forwardEps': 10.95,\n",
       " 'pegRatio': 2.87,\n",
       " 'lastSplitFactor': '2:1',\n",
       " 'lastSplitDate': 1045526400,\n",
       " 'enterpriseToRevenue': 11.892,\n",
       " 'enterpriseToEbitda': 24.668,\n",
       " '52WeekChange': 0.24800003,\n",
       " 'SandP52WeekChange': 0.039049506,\n",
       " 'lastDividendValue': 0.68,\n",
       " 'lastDividendDate': 1684281600,\n",
       " 'exchange': 'NMS',\n",
       " 'quoteType': 'EQUITY',\n",
       " 'symbol': 'MSFT',\n",
       " 'underlyingSymbol': 'MSFT',\n",
       " 'shortName': 'Microsoft Corporation',\n",
       " 'longName': 'Microsoft Corporation',\n",
       " 'firstTradeDateEpochUtc': 511108200,\n",
       " 'timeZoneFullName': 'America/New_York',\n",
       " 'timeZoneShortName': 'EDT',\n",
       " 'uuid': 'b004b3ec-de24-385e-b2c1-923f10d3fb62',\n",
       " 'messageBoardId': 'finmb_21835',\n",
       " 'gmtOffSetMilliseconds': -14400000,\n",
       " 'currentPrice': 337.99,\n",
       " 'targetHighPrice': 400.0,\n",
       " 'targetLowPrice': 232.0,\n",
       " 'targetMeanPrice': 339.39,\n",
       " 'targetMedianPrice': 340.0,\n",
       " 'recommendationMean': 1.8,\n",
       " 'recommendationKey': 'buy',\n",
       " 'numberOfAnalystOpinions': 43,\n",
       " 'totalCash': 104419000320,\n",
       " 'totalCashPerShare': 14.043,\n",
       " 'ebitda': 100080001024,\n",
       " 'totalDebt': 79312003072,\n",
       " 'quickRatio': 1.655,\n",
       " 'currentRatio': 1.913,\n",
       " 'totalRevenue': 207590998016,\n",
       " 'debtToEquity': 40.739,\n",
       " 'revenuePerShare': 27.844,\n",
       " 'returnOnAssets': 0.14829001,\n",
       " 'returnOnEquity': 0.38601002,\n",
       " 'grossProfits': 135620000000,\n",
       " 'freeCashflow': 42964873216,\n",
       " 'operatingCashflow': 83441000448,\n",
       " 'earningsGrowth': 0.104,\n",
       " 'revenueGrowth': 0.071,\n",
       " 'grossMargins': 0.68522,\n",
       " 'ebitdaMargins': 0.48209998,\n",
       " 'operatingMargins': 0.41415,\n",
       " 'financialCurrency': 'USD',\n",
       " 'trailingPegRatio': 2.3007}"
      ]
     },
     "execution_count": 4,
     "metadata": {},
     "output_type": "execute_result"
    }
   ],
   "source": [
    "# get all stock info\n",
    "msft.info"
   ]
  },
  {
   "cell_type": "code",
   "execution_count": 5,
   "id": "877b7f2b",
   "metadata": {},
   "outputs": [],
   "source": [
    "# get historical market data\n",
    "hist = msft.history(period=\"5y\")"
   ]
  },
  {
   "cell_type": "code",
   "execution_count": 6,
   "id": "2dad8394",
   "metadata": {},
   "outputs": [
    {
     "data": {
      "text/plain": [
       "{'currency': 'USD',\n",
       " 'symbol': 'MSFT',\n",
       " 'exchangeName': 'NMS',\n",
       " 'instrumentType': 'EQUITY',\n",
       " 'firstTradeDate': Timestamp('1986-03-13 09:30:00-0500', tz='America/New_York'),\n",
       " 'regularMarketTime': Timestamp('2023-06-05 13:27:56-0400', tz='America/New_York'),\n",
       " 'gmtoffset': -14400,\n",
       " 'timezone': 'EDT',\n",
       " 'exchangeTimezoneName': 'America/New_York',\n",
       " 'regularMarketPrice': 337.99,\n",
       " 'chartPreviousClose': 102.19,\n",
       " 'priceHint': 2,\n",
       " 'currentTradingPeriod': {'pre': {'end': Timestamp('2023-06-05 09:30:00-0400', tz='America/New_York'),\n",
       "   'start': Timestamp('2023-06-05 04:00:00-0400', tz='America/New_York')},\n",
       "  'regular': {'end': Timestamp('2023-06-05 16:00:00-0400', tz='America/New_York'),\n",
       "   'start': Timestamp('2023-06-05 09:30:00-0400', tz='America/New_York')},\n",
       "  'post': {'end': Timestamp('2023-06-05 20:00:00-0400', tz='America/New_York'),\n",
       "   'start': Timestamp('2023-06-05 16:00:00-0400', tz='America/New_York')}},\n",
       " 'dataGranularity': '1d',\n",
       " 'range': '5y',\n",
       " 'validRanges': ['1d',\n",
       "  '5d',\n",
       "  '1mo',\n",
       "  '3mo',\n",
       "  '6mo',\n",
       "  '1y',\n",
       "  '2y',\n",
       "  '5y',\n",
       "  '10y',\n",
       "  'ytd',\n",
       "  'max']}"
      ]
     },
     "execution_count": 6,
     "metadata": {},
     "output_type": "execute_result"
    }
   ],
   "source": [
    "# show meta information about the history (requires history() to be called first)\n",
    "msft.history_metadata"
   ]
  },
  {
   "cell_type": "code",
   "execution_count": 7,
   "id": "ffe8c1f1",
   "metadata": {},
   "outputs": [
    {
     "data": {
      "text/html": [
       "<div>\n",
       "<style scoped>\n",
       "    .dataframe tbody tr th:only-of-type {\n",
       "        vertical-align: middle;\n",
       "    }\n",
       "\n",
       "    .dataframe tbody tr th {\n",
       "        vertical-align: top;\n",
       "    }\n",
       "\n",
       "    .dataframe thead th {\n",
       "        text-align: right;\n",
       "    }\n",
       "</style>\n",
       "<table border=\"1\" class=\"dataframe\">\n",
       "  <thead>\n",
       "    <tr style=\"text-align: right;\">\n",
       "      <th></th>\n",
       "      <th>Dividends</th>\n",
       "      <th>Stock Splits</th>\n",
       "    </tr>\n",
       "    <tr>\n",
       "      <th>Date</th>\n",
       "      <th></th>\n",
       "      <th></th>\n",
       "    </tr>\n",
       "  </thead>\n",
       "  <tbody>\n",
       "    <tr>\n",
       "      <th>2018-08-15 00:00:00-04:00</th>\n",
       "      <td>0.42</td>\n",
       "      <td>0.0</td>\n",
       "    </tr>\n",
       "    <tr>\n",
       "      <th>2018-11-14 00:00:00-05:00</th>\n",
       "      <td>0.46</td>\n",
       "      <td>0.0</td>\n",
       "    </tr>\n",
       "    <tr>\n",
       "      <th>2019-02-20 00:00:00-05:00</th>\n",
       "      <td>0.46</td>\n",
       "      <td>0.0</td>\n",
       "    </tr>\n",
       "    <tr>\n",
       "      <th>2019-05-15 00:00:00-04:00</th>\n",
       "      <td>0.46</td>\n",
       "      <td>0.0</td>\n",
       "    </tr>\n",
       "    <tr>\n",
       "      <th>2019-08-14 00:00:00-04:00</th>\n",
       "      <td>0.46</td>\n",
       "      <td>0.0</td>\n",
       "    </tr>\n",
       "    <tr>\n",
       "      <th>2019-11-20 00:00:00-05:00</th>\n",
       "      <td>0.51</td>\n",
       "      <td>0.0</td>\n",
       "    </tr>\n",
       "    <tr>\n",
       "      <th>2020-02-19 00:00:00-05:00</th>\n",
       "      <td>0.51</td>\n",
       "      <td>0.0</td>\n",
       "    </tr>\n",
       "    <tr>\n",
       "      <th>2020-05-20 00:00:00-04:00</th>\n",
       "      <td>0.51</td>\n",
       "      <td>0.0</td>\n",
       "    </tr>\n",
       "    <tr>\n",
       "      <th>2020-08-19 00:00:00-04:00</th>\n",
       "      <td>0.51</td>\n",
       "      <td>0.0</td>\n",
       "    </tr>\n",
       "    <tr>\n",
       "      <th>2020-11-18 00:00:00-05:00</th>\n",
       "      <td>0.56</td>\n",
       "      <td>0.0</td>\n",
       "    </tr>\n",
       "    <tr>\n",
       "      <th>2021-02-17 00:00:00-05:00</th>\n",
       "      <td>0.56</td>\n",
       "      <td>0.0</td>\n",
       "    </tr>\n",
       "    <tr>\n",
       "      <th>2021-05-19 00:00:00-04:00</th>\n",
       "      <td>0.56</td>\n",
       "      <td>0.0</td>\n",
       "    </tr>\n",
       "    <tr>\n",
       "      <th>2021-08-18 00:00:00-04:00</th>\n",
       "      <td>0.56</td>\n",
       "      <td>0.0</td>\n",
       "    </tr>\n",
       "    <tr>\n",
       "      <th>2021-11-17 00:00:00-05:00</th>\n",
       "      <td>0.62</td>\n",
       "      <td>0.0</td>\n",
       "    </tr>\n",
       "    <tr>\n",
       "      <th>2022-02-16 00:00:00-05:00</th>\n",
       "      <td>0.62</td>\n",
       "      <td>0.0</td>\n",
       "    </tr>\n",
       "    <tr>\n",
       "      <th>2022-05-18 00:00:00-04:00</th>\n",
       "      <td>0.62</td>\n",
       "      <td>0.0</td>\n",
       "    </tr>\n",
       "    <tr>\n",
       "      <th>2022-08-17 00:00:00-04:00</th>\n",
       "      <td>0.62</td>\n",
       "      <td>0.0</td>\n",
       "    </tr>\n",
       "    <tr>\n",
       "      <th>2022-11-16 00:00:00-05:00</th>\n",
       "      <td>0.68</td>\n",
       "      <td>0.0</td>\n",
       "    </tr>\n",
       "    <tr>\n",
       "      <th>2023-02-15 00:00:00-05:00</th>\n",
       "      <td>0.68</td>\n",
       "      <td>0.0</td>\n",
       "    </tr>\n",
       "    <tr>\n",
       "      <th>2023-05-17 00:00:00-04:00</th>\n",
       "      <td>0.68</td>\n",
       "      <td>0.0</td>\n",
       "    </tr>\n",
       "  </tbody>\n",
       "</table>\n",
       "</div>"
      ],
      "text/plain": [
       "                           Dividends  Stock Splits\n",
       "Date                                              \n",
       "2018-08-15 00:00:00-04:00       0.42           0.0\n",
       "2018-11-14 00:00:00-05:00       0.46           0.0\n",
       "2019-02-20 00:00:00-05:00       0.46           0.0\n",
       "2019-05-15 00:00:00-04:00       0.46           0.0\n",
       "2019-08-14 00:00:00-04:00       0.46           0.0\n",
       "2019-11-20 00:00:00-05:00       0.51           0.0\n",
       "2020-02-19 00:00:00-05:00       0.51           0.0\n",
       "2020-05-20 00:00:00-04:00       0.51           0.0\n",
       "2020-08-19 00:00:00-04:00       0.51           0.0\n",
       "2020-11-18 00:00:00-05:00       0.56           0.0\n",
       "2021-02-17 00:00:00-05:00       0.56           0.0\n",
       "2021-05-19 00:00:00-04:00       0.56           0.0\n",
       "2021-08-18 00:00:00-04:00       0.56           0.0\n",
       "2021-11-17 00:00:00-05:00       0.62           0.0\n",
       "2022-02-16 00:00:00-05:00       0.62           0.0\n",
       "2022-05-18 00:00:00-04:00       0.62           0.0\n",
       "2022-08-17 00:00:00-04:00       0.62           0.0\n",
       "2022-11-16 00:00:00-05:00       0.68           0.0\n",
       "2023-02-15 00:00:00-05:00       0.68           0.0\n",
       "2023-05-17 00:00:00-04:00       0.68           0.0"
      ]
     },
     "execution_count": 7,
     "metadata": {},
     "output_type": "execute_result"
    }
   ],
   "source": [
    "# show actions (dividends, splits, capital gains)\n",
    "msft.actions"
   ]
  },
  {
   "cell_type": "code",
   "execution_count": 8,
   "id": "2e35d22d",
   "metadata": {},
   "outputs": [
    {
     "data": {
      "text/plain": [
       "Date\n",
       "2018-08-15 00:00:00-04:00    0.42\n",
       "2018-11-14 00:00:00-05:00    0.46\n",
       "2019-02-20 00:00:00-05:00    0.46\n",
       "2019-05-15 00:00:00-04:00    0.46\n",
       "2019-08-14 00:00:00-04:00    0.46\n",
       "2019-11-20 00:00:00-05:00    0.51\n",
       "2020-02-19 00:00:00-05:00    0.51\n",
       "2020-05-20 00:00:00-04:00    0.51\n",
       "2020-08-19 00:00:00-04:00    0.51\n",
       "2020-11-18 00:00:00-05:00    0.56\n",
       "2021-02-17 00:00:00-05:00    0.56\n",
       "2021-05-19 00:00:00-04:00    0.56\n",
       "2021-08-18 00:00:00-04:00    0.56\n",
       "2021-11-17 00:00:00-05:00    0.62\n",
       "2022-02-16 00:00:00-05:00    0.62\n",
       "2022-05-18 00:00:00-04:00    0.62\n",
       "2022-08-17 00:00:00-04:00    0.62\n",
       "2022-11-16 00:00:00-05:00    0.68\n",
       "2023-02-15 00:00:00-05:00    0.68\n",
       "2023-05-17 00:00:00-04:00    0.68\n",
       "Name: Dividends, dtype: float64"
      ]
     },
     "execution_count": 8,
     "metadata": {},
     "output_type": "execute_result"
    }
   ],
   "source": [
    "msft.dividends"
   ]
  },
  {
   "cell_type": "code",
   "execution_count": 9,
   "id": "2bc6cff6",
   "metadata": {},
   "outputs": [
    {
     "data": {
      "text/plain": [
       "Series([], Name: Stock Splits, dtype: float64)"
      ]
     },
     "execution_count": 9,
     "metadata": {},
     "output_type": "execute_result"
    }
   ],
   "source": [
    "msft.splits"
   ]
  },
  {
   "cell_type": "code",
   "execution_count": 10,
   "id": "8dc8ee9d",
   "metadata": {},
   "outputs": [
    {
     "data": {
      "text/plain": [
       "[]"
      ]
     },
     "execution_count": 10,
     "metadata": {},
     "output_type": "execute_result"
    }
   ],
   "source": [
    "msft.capital_gains  # only for mutual funds & etfs"
   ]
  },
  {
   "cell_type": "code",
   "execution_count": null,
   "id": "c944b6b3",
   "metadata": {},
   "outputs": [],
   "source": []
  },
  {
   "cell_type": "code",
   "execution_count": null,
   "id": "c0500400",
   "metadata": {},
   "outputs": [],
   "source": []
  },
  {
   "cell_type": "code",
   "execution_count": 11,
   "id": "a10f0677",
   "metadata": {},
   "outputs": [],
   "source": [
    "# show financials:\n",
    "# - income statement\n",
    "x = msft.history(period='5y',interval='1d')"
   ]
  },
  {
   "cell_type": "code",
   "execution_count": 12,
   "id": "415cdf45",
   "metadata": {},
   "outputs": [
    {
     "data": {
      "text/html": [
       "<div>\n",
       "<style scoped>\n",
       "    .dataframe tbody tr th:only-of-type {\n",
       "        vertical-align: middle;\n",
       "    }\n",
       "\n",
       "    .dataframe tbody tr th {\n",
       "        vertical-align: top;\n",
       "    }\n",
       "\n",
       "    .dataframe thead th {\n",
       "        text-align: right;\n",
       "    }\n",
       "</style>\n",
       "<table border=\"1\" class=\"dataframe\">\n",
       "  <thead>\n",
       "    <tr style=\"text-align: right;\">\n",
       "      <th></th>\n",
       "      <th>Open</th>\n",
       "      <th>High</th>\n",
       "      <th>Low</th>\n",
       "      <th>Close</th>\n",
       "      <th>Volume</th>\n",
       "      <th>Dividends</th>\n",
       "      <th>Stock Splits</th>\n",
       "    </tr>\n",
       "    <tr>\n",
       "      <th>Date</th>\n",
       "      <th></th>\n",
       "      <th></th>\n",
       "      <th></th>\n",
       "      <th></th>\n",
       "      <th></th>\n",
       "      <th></th>\n",
       "      <th></th>\n",
       "    </tr>\n",
       "  </thead>\n",
       "  <tbody>\n",
       "    <tr>\n",
       "      <th>2018-06-05 00:00:00-04:00</th>\n",
       "      <td>96.471389</td>\n",
       "      <td>96.783504</td>\n",
       "      <td>96.026862</td>\n",
       "      <td>96.651093</td>\n",
       "      <td>23514400</td>\n",
       "      <td>0.0</td>\n",
       "      <td>0.0</td>\n",
       "    </tr>\n",
       "    <tr>\n",
       "      <th>2018-06-06 00:00:00-04:00</th>\n",
       "      <td>96.925369</td>\n",
       "      <td>97.038860</td>\n",
       "      <td>96.376805</td>\n",
       "      <td>96.934822</td>\n",
       "      <td>21122900</td>\n",
       "      <td>0.0</td>\n",
       "      <td>0.0</td>\n",
       "    </tr>\n",
       "    <tr>\n",
       "      <th>2018-06-07 00:00:00-04:00</th>\n",
       "      <td>97.086145</td>\n",
       "      <td>97.123978</td>\n",
       "      <td>94.939180</td>\n",
       "      <td>95.412079</td>\n",
       "      <td>28232200</td>\n",
       "      <td>0.0</td>\n",
       "      <td>0.0</td>\n",
       "    </tr>\n",
       "    <tr>\n",
       "      <th>2018-06-08 00:00:00-04:00</th>\n",
       "      <td>95.610698</td>\n",
       "      <td>96.424084</td>\n",
       "      <td>95.090513</td>\n",
       "      <td>96.121429</td>\n",
       "      <td>22165100</td>\n",
       "      <td>0.0</td>\n",
       "      <td>0.0</td>\n",
       "    </tr>\n",
       "    <tr>\n",
       "      <th>2018-06-11 00:00:00-04:00</th>\n",
       "      <td>95.535036</td>\n",
       "      <td>96.083593</td>\n",
       "      <td>95.213461</td>\n",
       "      <td>95.572868</td>\n",
       "      <td>23490900</td>\n",
       "      <td>0.0</td>\n",
       "      <td>0.0</td>\n",
       "    </tr>\n",
       "    <tr>\n",
       "      <th>...</th>\n",
       "      <td>...</td>\n",
       "      <td>...</td>\n",
       "      <td>...</td>\n",
       "      <td>...</td>\n",
       "      <td>...</td>\n",
       "      <td>...</td>\n",
       "      <td>...</td>\n",
       "    </tr>\n",
       "    <tr>\n",
       "      <th>2023-05-30 00:00:00-04:00</th>\n",
       "      <td>335.230011</td>\n",
       "      <td>335.739990</td>\n",
       "      <td>330.519989</td>\n",
       "      <td>331.209991</td>\n",
       "      <td>29503100</td>\n",
       "      <td>0.0</td>\n",
       "      <td>0.0</td>\n",
       "    </tr>\n",
       "    <tr>\n",
       "      <th>2023-05-31 00:00:00-04:00</th>\n",
       "      <td>332.290009</td>\n",
       "      <td>335.940002</td>\n",
       "      <td>327.329987</td>\n",
       "      <td>328.390015</td>\n",
       "      <td>45950600</td>\n",
       "      <td>0.0</td>\n",
       "      <td>0.0</td>\n",
       "    </tr>\n",
       "    <tr>\n",
       "      <th>2023-06-01 00:00:00-04:00</th>\n",
       "      <td>325.929993</td>\n",
       "      <td>333.529999</td>\n",
       "      <td>324.720001</td>\n",
       "      <td>332.579987</td>\n",
       "      <td>26773900</td>\n",
       "      <td>0.0</td>\n",
       "      <td>0.0</td>\n",
       "    </tr>\n",
       "    <tr>\n",
       "      <th>2023-06-02 00:00:00-04:00</th>\n",
       "      <td>334.250000</td>\n",
       "      <td>337.500000</td>\n",
       "      <td>332.549988</td>\n",
       "      <td>335.399994</td>\n",
       "      <td>25864000</td>\n",
       "      <td>0.0</td>\n",
       "      <td>0.0</td>\n",
       "    </tr>\n",
       "    <tr>\n",
       "      <th>2023-06-05 00:00:00-04:00</th>\n",
       "      <td>335.220001</td>\n",
       "      <td>338.549988</td>\n",
       "      <td>334.660095</td>\n",
       "      <td>337.989990</td>\n",
       "      <td>10616197</td>\n",
       "      <td>0.0</td>\n",
       "      <td>0.0</td>\n",
       "    </tr>\n",
       "  </tbody>\n",
       "</table>\n",
       "<p>1259 rows × 7 columns</p>\n",
       "</div>"
      ],
      "text/plain": [
       "                                 Open        High         Low       Close  \\\n",
       "Date                                                                        \n",
       "2018-06-05 00:00:00-04:00   96.471389   96.783504   96.026862   96.651093   \n",
       "2018-06-06 00:00:00-04:00   96.925369   97.038860   96.376805   96.934822   \n",
       "2018-06-07 00:00:00-04:00   97.086145   97.123978   94.939180   95.412079   \n",
       "2018-06-08 00:00:00-04:00   95.610698   96.424084   95.090513   96.121429   \n",
       "2018-06-11 00:00:00-04:00   95.535036   96.083593   95.213461   95.572868   \n",
       "...                               ...         ...         ...         ...   \n",
       "2023-05-30 00:00:00-04:00  335.230011  335.739990  330.519989  331.209991   \n",
       "2023-05-31 00:00:00-04:00  332.290009  335.940002  327.329987  328.390015   \n",
       "2023-06-01 00:00:00-04:00  325.929993  333.529999  324.720001  332.579987   \n",
       "2023-06-02 00:00:00-04:00  334.250000  337.500000  332.549988  335.399994   \n",
       "2023-06-05 00:00:00-04:00  335.220001  338.549988  334.660095  337.989990   \n",
       "\n",
       "                             Volume  Dividends  Stock Splits  \n",
       "Date                                                          \n",
       "2018-06-05 00:00:00-04:00  23514400        0.0           0.0  \n",
       "2018-06-06 00:00:00-04:00  21122900        0.0           0.0  \n",
       "2018-06-07 00:00:00-04:00  28232200        0.0           0.0  \n",
       "2018-06-08 00:00:00-04:00  22165100        0.0           0.0  \n",
       "2018-06-11 00:00:00-04:00  23490900        0.0           0.0  \n",
       "...                             ...        ...           ...  \n",
       "2023-05-30 00:00:00-04:00  29503100        0.0           0.0  \n",
       "2023-05-31 00:00:00-04:00  45950600        0.0           0.0  \n",
       "2023-06-01 00:00:00-04:00  26773900        0.0           0.0  \n",
       "2023-06-02 00:00:00-04:00  25864000        0.0           0.0  \n",
       "2023-06-05 00:00:00-04:00  10616197        0.0           0.0  \n",
       "\n",
       "[1259 rows x 7 columns]"
      ]
     },
     "execution_count": 12,
     "metadata": {},
     "output_type": "execute_result"
    }
   ],
   "source": [
    "x"
   ]
  },
  {
   "cell_type": "code",
   "execution_count": 13,
   "id": "ca38003c",
   "metadata": {
    "scrolled": true
   },
   "outputs": [
    {
     "data": {
      "image/png": "[encoded data removed]",
      "text/plain": [
       "<Figure size 640x480 with 1 Axes>"
      ]
     },
     "metadata": {},
     "output_type": "display_data"
    }
   ],
   "source": [
    "plt.figure()\n",
    "lag_plot(x['Open'], lag=3)\n",
    "plt.title('Microsoft Stock - Autocorrelation plot with lag = 3')\n",
    "plt.show()"
   ]
  },
  {
   "cell_type": "code",
   "execution_count": 14,
   "id": "2e7096aa",
   "metadata": {},
   "outputs": [
    {
     "data": {
      "text/plain": [
       "1259"
      ]
     },
     "execution_count": 14,
     "metadata": {},
     "output_type": "execute_result"
    }
   ],
   "source": [
    "len(x)"
   ]
  },
  {
   "cell_type": "code",
   "execution_count": 16,
   "id": "7018d3c3",
   "metadata": {},
   "outputs": [
    {
     "data": {
      "image/png": "[encoded data removed]",
      "text/plain": [
       "<Figure size 640x480 with 1 Axes>"
      ]
     },
     "metadata": {},
     "output_type": "display_data"
    }
   ],
   "source": [
    "plt.plot(np.arange(0,1259, 1), x[\"Close\"])\n",
    "plt.title(\"Microsoft stock price over time\")\n",
    "plt.xlabel(\"time\")\n",
    "plt.ylabel(\"price\")\n",
    "plt.show()\n"
   ]
  },
  {
   "cell_type": "code",
   "execution_count": 28,
   "id": "d9c7a701",
   "metadata": {},
   "outputs": [
    {
     "data": {
      "text/html": [
       "<div>\n",
       "<style scoped>\n",
       "    .dataframe tbody tr th:only-of-type {\n",
       "        vertical-align: middle;\n",
       "    }\n",
       "\n",
       "    .dataframe tbody tr th {\n",
       "        vertical-align: top;\n",
       "    }\n",
       "\n",
       "    .dataframe thead th {\n",
       "        text-align: right;\n",
       "    }\n",
       "</style>\n",
       "<table border=\"1\" class=\"dataframe\">\n",
       "  <thead>\n",
       "    <tr style=\"text-align: right;\">\n",
       "      <th></th>\n",
       "      <th>Open</th>\n",
       "      <th>High</th>\n",
       "      <th>Low</th>\n",
       "      <th>Close</th>\n",
       "      <th>Volume</th>\n",
       "      <th>Dividends</th>\n",
       "      <th>Stock Splits</th>\n",
       "    </tr>\n",
       "    <tr>\n",
       "      <th>Date</th>\n",
       "      <th></th>\n",
       "      <th></th>\n",
       "      <th></th>\n",
       "      <th></th>\n",
       "      <th></th>\n",
       "      <th></th>\n",
       "      <th></th>\n",
       "    </tr>\n",
       "  </thead>\n",
       "  <tbody>\n",
       "    <tr>\n",
       "      <th>2018-06-05 00:00:00-04:00</th>\n",
       "      <td>96.471389</td>\n",
       "      <td>96.783504</td>\n",
       "      <td>96.026862</td>\n",
       "      <td>96.651093</td>\n",
       "      <td>23514400</td>\n",
       "      <td>0.0</td>\n",
       "      <td>0.0</td>\n",
       "    </tr>\n",
       "    <tr>\n",
       "      <th>2018-06-06 00:00:00-04:00</th>\n",
       "      <td>96.925369</td>\n",
       "      <td>97.038860</td>\n",
       "      <td>96.376805</td>\n",
       "      <td>96.934822</td>\n",
       "      <td>21122900</td>\n",
       "      <td>0.0</td>\n",
       "      <td>0.0</td>\n",
       "    </tr>\n",
       "    <tr>\n",
       "      <th>2018-06-07 00:00:00-04:00</th>\n",
       "      <td>97.086145</td>\n",
       "      <td>97.123978</td>\n",
       "      <td>94.939180</td>\n",
       "      <td>95.412079</td>\n",
       "      <td>28232200</td>\n",
       "      <td>0.0</td>\n",
       "      <td>0.0</td>\n",
       "    </tr>\n",
       "    <tr>\n",
       "      <th>2018-06-08 00:00:00-04:00</th>\n",
       "      <td>95.610698</td>\n",
       "      <td>96.424084</td>\n",
       "      <td>95.090513</td>\n",
       "      <td>96.121429</td>\n",
       "      <td>22165100</td>\n",
       "      <td>0.0</td>\n",
       "      <td>0.0</td>\n",
       "    </tr>\n",
       "    <tr>\n",
       "      <th>2018-06-11 00:00:00-04:00</th>\n",
       "      <td>95.535036</td>\n",
       "      <td>96.083593</td>\n",
       "      <td>95.213461</td>\n",
       "      <td>95.572868</td>\n",
       "      <td>23490900</td>\n",
       "      <td>0.0</td>\n",
       "      <td>0.0</td>\n",
       "    </tr>\n",
       "    <tr>\n",
       "      <th>...</th>\n",
       "      <td>...</td>\n",
       "      <td>...</td>\n",
       "      <td>...</td>\n",
       "      <td>...</td>\n",
       "      <td>...</td>\n",
       "      <td>...</td>\n",
       "      <td>...</td>\n",
       "    </tr>\n",
       "    <tr>\n",
       "      <th>2023-05-30 00:00:00-04:00</th>\n",
       "      <td>335.230011</td>\n",
       "      <td>335.739990</td>\n",
       "      <td>330.519989</td>\n",
       "      <td>331.209991</td>\n",
       "      <td>29503100</td>\n",
       "      <td>0.0</td>\n",
       "      <td>0.0</td>\n",
       "    </tr>\n",
       "    <tr>\n",
       "      <th>2023-05-31 00:00:00-04:00</th>\n",
       "      <td>332.290009</td>\n",
       "      <td>335.940002</td>\n",
       "      <td>327.329987</td>\n",
       "      <td>328.390015</td>\n",
       "      <td>45950600</td>\n",
       "      <td>0.0</td>\n",
       "      <td>0.0</td>\n",
       "    </tr>\n",
       "    <tr>\n",
       "      <th>2023-06-01 00:00:00-04:00</th>\n",
       "      <td>325.929993</td>\n",
       "      <td>333.529999</td>\n",
       "      <td>324.720001</td>\n",
       "      <td>332.579987</td>\n",
       "      <td>26773900</td>\n",
       "      <td>0.0</td>\n",
       "      <td>0.0</td>\n",
       "    </tr>\n",
       "    <tr>\n",
       "      <th>2023-06-02 00:00:00-04:00</th>\n",
       "      <td>334.250000</td>\n",
       "      <td>337.500000</td>\n",
       "      <td>332.549988</td>\n",
       "      <td>335.399994</td>\n",
       "      <td>25864000</td>\n",
       "      <td>0.0</td>\n",
       "      <td>0.0</td>\n",
       "    </tr>\n",
       "    <tr>\n",
       "      <th>2023-06-05 00:00:00-04:00</th>\n",
       "      <td>335.220001</td>\n",
       "      <td>338.549988</td>\n",
       "      <td>334.660095</td>\n",
       "      <td>337.989990</td>\n",
       "      <td>10616197</td>\n",
       "      <td>0.0</td>\n",
       "      <td>0.0</td>\n",
       "    </tr>\n",
       "  </tbody>\n",
       "</table>\n",
       "<p>1259 rows × 7 columns</p>\n",
       "</div>"
      ],
      "text/plain": [
       "                                 Open        High         Low       Close  \\\n",
       "Date                                                                        \n",
       "2018-06-05 00:00:00-04:00   96.471389   96.783504   96.026862   96.651093   \n",
       "2018-06-06 00:00:00-04:00   96.925369   97.038860   96.376805   96.934822   \n",
       "2018-06-07 00:00:00-04:00   97.086145   97.123978   94.939180   95.412079   \n",
       "2018-06-08 00:00:00-04:00   95.610698   96.424084   95.090513   96.121429   \n",
       "2018-06-11 00:00:00-04:00   95.535036   96.083593   95.213461   95.572868   \n",
       "...                               ...         ...         ...         ...   \n",
       "2023-05-30 00:00:00-04:00  335.230011  335.739990  330.519989  331.209991   \n",
       "2023-05-31 00:00:00-04:00  332.290009  335.940002  327.329987  328.390015   \n",
       "2023-06-01 00:00:00-04:00  325.929993  333.529999  324.720001  332.579987   \n",
       "2023-06-02 00:00:00-04:00  334.250000  337.500000  332.549988  335.399994   \n",
       "2023-06-05 00:00:00-04:00  335.220001  338.549988  334.660095  337.989990   \n",
       "\n",
       "                             Volume  Dividends  Stock Splits  \n",
       "Date                                                          \n",
       "2018-06-05 00:00:00-04:00  23514400        0.0           0.0  \n",
       "2018-06-06 00:00:00-04:00  21122900        0.0           0.0  \n",
       "2018-06-07 00:00:00-04:00  28232200        0.0           0.0  \n",
       "2018-06-08 00:00:00-04:00  22165100        0.0           0.0  \n",
       "2018-06-11 00:00:00-04:00  23490900        0.0           0.0  \n",
       "...                             ...        ...           ...  \n",
       "2023-05-30 00:00:00-04:00  29503100        0.0           0.0  \n",
       "2023-05-31 00:00:00-04:00  45950600        0.0           0.0  \n",
       "2023-06-01 00:00:00-04:00  26773900        0.0           0.0  \n",
       "2023-06-02 00:00:00-04:00  25864000        0.0           0.0  \n",
       "2023-06-05 00:00:00-04:00  10616197        0.0           0.0  \n",
       "\n",
       "[1259 rows x 7 columns]"
      ]
     },
     "execution_count": 28,
     "metadata": {},
     "output_type": "execute_result"
    }
   ],
   "source": [
    "x"
   ]
  },
  {
   "cell_type": "code",
   "execution_count": 126,
   "id": "6e157842",
   "metadata": {},
   "outputs": [],
   "source": [
    "# Generate data point for each iteration\n",
    "\n",
    "class gen_dataset:\n",
    "    \n",
    "    def __init__(self, dataset, attribute = 'Close'):\n",
    "        self.attribute = attribute\n",
    "        self.dataset = iter(list(dataset[:][attribute].values))\n",
    "        \n",
    "    def get_data(self):\n",
    "        return next(self.dataset)\n",
    "        "
   ]
  },
  {
   "cell_type": "code",
   "execution_count": 166,
   "id": "efa6e9e9",
   "metadata": {},
   "outputs": [],
   "source": [
    "# Create dynamic dataset \n",
    "memory_time = 30\n",
    "ohlc_attr = 'Close'\n",
    "training_data = []\n",
    "\n",
    "data_obj = gen_dataset(x)\n",
    "\n",
    "for i in range(memory_time):\n",
    "    data_val = data_obj.get_data()\n",
    "    training_data.append(data_val)"
   ]
  },
  {
   "cell_type": "code",
   "execution_count": 167,
   "id": "39c82bce",
   "metadata": {},
   "outputs": [
    {
     "data": {
      "text/plain": [
       "list"
      ]
     },
     "execution_count": 167,
     "metadata": {},
     "output_type": "execute_result"
    }
   ],
   "source": [
    "type(training_data)"
   ]
  },
  {
   "cell_type": "code",
   "execution_count": 168,
   "id": "f58f21e4",
   "metadata": {},
   "outputs": [
    {
     "data": {
      "text/plain": [
       "335.3999938964844"
      ]
     },
     "execution_count": 168,
     "metadata": {},
     "output_type": "execute_result"
    }
   ],
   "source": [
    "test_data"
   ]
  },
  {
   "cell_type": "code",
   "execution_count": 169,
   "id": "b416aad6",
   "metadata": {},
   "outputs": [
    {
     "name": "stdout",
     "output_type": "stream",
     "text": [
      "1228\n"
     ]
    },
    {
     "name": "stderr",
     "output_type": "stream",
     "text": [
      "C:\\Users\\SSAHOO\\Anaconda3\\lib\\site-packages\\statsmodels\\tsa\\statespace\\sarimax.py:966: UserWarning: Non-stationary starting autoregressive parameters found. Using zeros as starting parameters.\n",
      "  warn('Non-stationary starting autoregressive parameters'\n"
     ]
    }
   ],
   "source": [
    "# Value prediction model training\n",
    "\n",
    "model_predictions = []\n",
    "N_test_observations = len(x) - memory_time - 1\n",
    "print(N_test_observations)\n",
    "test_data_real = []\n",
    "\n",
    "for time_point in range(N_test_observations):\n",
    "    data_val = data_obj.get_data()\n",
    "    test_data = data_val\n",
    "    model = ARIMA(training_data, order=(4,1,0))\n",
    "    model_fit = model.fit()\n",
    "    output = model_fit.forecast()\n",
    "    #print(output)\n",
    "    yhat = output[0]\n",
    "    model_predictions.append(yhat)\n",
    "    #print(model_predictions)\n",
    "    test_data_real.append(test_data)\n",
    "    training_data.pop(0)\n",
    "    training_data.append(data_val)"
   ]
  },
  {
   "cell_type": "code",
   "execution_count": 170,
   "id": "82dc7f01",
   "metadata": {},
   "outputs": [
    {
     "data": {
      "text/plain": [
       "1228"
      ]
     },
     "execution_count": 170,
     "metadata": {},
     "output_type": "execute_result"
    }
   ],
   "source": [
    "len(model_predictions)"
   ]
  },
  {
   "cell_type": "code",
   "execution_count": 171,
   "id": "b3d90f12",
   "metadata": {},
   "outputs": [
    {
     "data": {
      "text/plain": [
       "1228"
      ]
     },
     "execution_count": 171,
     "metadata": {},
     "output_type": "execute_result"
    }
   ],
   "source": [
    "len(test_data_real)"
   ]
  },
  {
   "cell_type": "code",
   "execution_count": null,
   "id": "de2a150a",
   "metadata": {},
   "outputs": [],
   "source": []
  },
  {
   "cell_type": "code",
   "execution_count": 172,
   "id": "cd0ded4b",
   "metadata": {},
   "outputs": [
    {
     "data": {
      "text/plain": [
       "1228"
      ]
     },
     "execution_count": 172,
     "metadata": {},
     "output_type": "execute_result"
    }
   ],
   "source": [
    "len(test_data_real)"
   ]
  },
  {
   "cell_type": "code",
   "execution_count": 173,
   "id": "23421027",
   "metadata": {},
   "outputs": [
    {
     "name": "stdout",
     "output_type": "stream",
     "text": [
      "Testing Mean Squared Error is 19.401398022881263\n"
     ]
    }
   ],
   "source": [
    "# Calculate mean-squared error for predicted data points\n",
    "\n",
    "MSE_error = mean_squared_error(test_data_real, model_predictions)\n",
    "print('Testing Mean Squared Error is {}'.format(MSE_error))"
   ]
  },
  {
   "cell_type": "code",
   "execution_count": 174,
   "id": "472ae23d",
   "metadata": {},
   "outputs": [
    {
     "data": {
      "image/png": "[encoded data removed]",
      "text/plain": [
       "<Figure size 640x480 with 1 Axes>"
      ]
     },
     "metadata": {},
     "output_type": "display_data"
    }
   ],
   "source": [
    "test_set_range = len(test_data_real)\n",
    "plt.plot(model_predictions, color='blue', marker='o', linestyle='dashed',label='Predicted Price')\n",
    "plt.plot(test_data_real, color='red', label='Actual Price')\n",
    "plt.title('Microsoft Prices Prediction')\n",
    "plt.xlabel('Date')\n",
    "plt.ylabel('Prices')\n",
    "#plt.xticks(np.arange(0,252,1), x.Date[881:1259:50])\n",
    "plt.legend()\n",
    "plt.show()"
   ]
  },
  {
   "cell_type": "code",
   "execution_count": 179,
   "id": "bb845b6e",
   "metadata": {},
   "outputs": [
    {
     "name": "stdout",
     "output_type": "stream",
     "text": [
      "153.6255645751953\n"
     ]
    }
   ],
   "source": [
    "# Buying and selling Pnl Calculation\n",
    "\n",
    "pnl = 0\n",
    "\n",
    "prev_val = 0\n",
    "pred_val = 0\n",
    "curr_val = 0\n",
    "\n",
    "for i in range(len(test_data_real) - 1):\n",
    "    prev_val = test_data_real[i]\n",
    "    pred_val = model_predictions[i+1]\n",
    "    curr_val = test_data_real[i+1]\n",
    "    \n",
    "    if(pred_val > prev_val):\n",
    "        pnl += curr_val - prev_val\n",
    "    else:\n",
    "        pnl += prev_val - curr_val\n",
    "\n",
    "print(pnl)"
   ]
  },
  {
   "cell_type": "code",
   "execution_count": 180,
   "id": "88a333a4",
   "metadata": {},
   "outputs": [],
   "source": [
    "output = model_fit.forecast()"
   ]
  },
  {
   "cell_type": "code",
   "execution_count": null,
   "id": "3b0d0f91",
   "metadata": {},
   "outputs": [],
   "source": []
  },
  {
   "cell_type": "code",
   "execution_count": null,
   "id": "3becceed",
   "metadata": {},
   "outputs": [],
   "source": []
  },
  {
   "cell_type": "code",
   "execution_count": null,
   "id": "c849f2b3",
   "metadata": {},
   "outputs": [],
   "source": []
  },
  {
   "cell_type": "code",
   "execution_count": null,
   "id": "23ca2131",
   "metadata": {},
   "outputs": [],
   "source": []
  },
  {
   "cell_type": "code",
   "execution_count": null,
   "id": "5d1914fb",
   "metadata": {},
   "outputs": [],
   "source": []
  },
  {
   "cell_type": "code",
   "execution_count": null,
   "id": "96275c7c",
   "metadata": {},
   "outputs": [],
   "source": []
  },
  {
   "cell_type": "code",
   "execution_count": null,
   "id": "69ae46d0",
   "metadata": {},
   "outputs": [],
   "source": []
  },
  {
   "cell_type": "code",
   "execution_count": null,
   "id": "e2ec5f35",
   "metadata": {},
   "outputs": [],
   "source": []
  },
  {
   "cell_type": "code",
   "execution_count": null,
   "id": "cfa80bfa",
   "metadata": {},
   "outputs": [],
   "source": []
  },
  {
   "cell_type": "code",
   "execution_count": null,
   "id": "8a99bdac",
   "metadata": {},
   "outputs": [],
   "source": []
  },
  {
   "cell_type": "code",
   "execution_count": null,
   "id": "95f24ce4",
   "metadata": {},
   "outputs": [],
   "source": []
  },
  {
   "cell_type": "code",
   "execution_count": null,
   "id": "e9741d05",
   "metadata": {},
   "outputs": [],
   "source": []
  },
  {
   "cell_type": "code",
   "execution_count": null,
   "id": "43c5b027",
   "metadata": {},
   "outputs": [],
   "source": []
  }
 ],
 "metadata": {
  "kernelspec": {
   "display_name": "Python 3 (ipykernel)",
   "language": "python",
   "name": "python3"
  },
  "language_info": {
   "codemirror_mode": {
    "name": "ipython",
    "version": 3
   },
   "file_extension": ".py",
   "mimetype": "text/x-python",
   "name": "python",
   "nbconvert_exporter": "python",
   "pygments_lexer": "ipython3",
   "version": "3.8.8"
  }
 },
 "nbformat": 4,
 "nbformat_minor": 5
}
